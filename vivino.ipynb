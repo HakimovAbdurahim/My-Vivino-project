{
 "cells": [
  {
   "cell_type": "code",
   "execution_count": 116,
   "metadata": {
    "collapsed": true
   },
   "outputs": [],
   "source": [
    "import requests\n",
    "import pandas as pd\n",
    "import numpy as np\n",
    "import matplotlib.pyplot as plt\n",
    "import seaborn as sns"
   ]
  },
  {
   "cell_type": "markdown",
   "source": [
    "Data Collecting / Cleaning"
   ],
   "metadata": {
    "collapsed": false
   }
  },
  {
   "cell_type": "code",
   "execution_count": 117,
   "outputs": [],
   "source": [
    "# I worked with a ready-made dataset in this project\n",
    "def collecting_data():\n",
    "    url_csv = \"/Users/student/PycharmProjects/My Vivino/My-Vivino-project/vivino_top_ten.csv\"\n",
    "    data = pd.read_csv(url_csv)\n",
    "    return data\n",
    "\n",
    "df = collecting_data()"
   ],
   "metadata": {
    "collapsed": false,
    "pycharm": {
     "name": "#%%\n"
    }
   }
  },
  {
   "cell_type": "code",
   "execution_count": 118,
   "outputs": [],
   "source": [
    "# Cleaning columns of dataset\n",
    "def cleaning_data(dataset):\n",
    "    dataset['Year'] = dataset['Year'].replace('N.V.', np.NAN)\n",
    "    dataset.drop('Wine_ID', axis=1, inplace=True)\n",
    "    dataset.drop('Country_Code', axis=1, inplace=True)\n",
    "    return dataset\n",
    "\n",
    "df = cleaning_data(df)"
   ],
   "metadata": {
    "collapsed": false,
    "pycharm": {
     "name": "#%%\n"
    }
   }
  },
  {
   "cell_type": "code",
   "execution_count": 154,
   "outputs": [
    {
     "data": {
      "text/plain": "         Winery  Year                     Wine  Rating  Reviews  Price  \\\n0  Baron de Ley  2020   Rosado de Lágrima 2020     4.2       42   7.15   \n1       New Age   NaN         Sweet White N.V.     3.9     5672   7.43   \n2        Alamos  2018         Malbec Rosé 2018     3.9      384   8.00   \n3        Alamos  2019           Torrontes 2019     3.8      820   8.00   \n4        Alamos  2020  Cabernet Sauvignon 2020     3.6      489   8.00   \n\n         Region Primary_Grape  Natural    Country  Style  \n0      La Rioja        Malbec    False  Argentina   Rose  \n1       Mendoza        Malbec    False  Argentina  White  \n2  Valle de Uco        Malbec    False  Argentina   Rose  \n3         Salta        Malbec    False  Argentina  White  \n4       Mendoza        Malbec    False  Argentina    Red  ",
      "text/html": "<div>\n<style scoped>\n    .dataframe tbody tr th:only-of-type {\n        vertical-align: middle;\n    }\n\n    .dataframe tbody tr th {\n        vertical-align: top;\n    }\n\n    .dataframe thead th {\n        text-align: right;\n    }\n</style>\n<table border=\"1\" class=\"dataframe\">\n  <thead>\n    <tr style=\"text-align: right;\">\n      <th></th>\n      <th>Winery</th>\n      <th>Year</th>\n      <th>Wine</th>\n      <th>Rating</th>\n      <th>Reviews</th>\n      <th>Price</th>\n      <th>Region</th>\n      <th>Primary_Grape</th>\n      <th>Natural</th>\n      <th>Country</th>\n      <th>Style</th>\n    </tr>\n  </thead>\n  <tbody>\n    <tr>\n      <th>0</th>\n      <td>Baron de Ley</td>\n      <td>2020</td>\n      <td>Rosado de Lágrima 2020</td>\n      <td>4.2</td>\n      <td>42</td>\n      <td>7.15</td>\n      <td>La Rioja</td>\n      <td>Malbec</td>\n      <td>False</td>\n      <td>Argentina</td>\n      <td>Rose</td>\n    </tr>\n    <tr>\n      <th>1</th>\n      <td>New Age</td>\n      <td>NaN</td>\n      <td>Sweet White N.V.</td>\n      <td>3.9</td>\n      <td>5672</td>\n      <td>7.43</td>\n      <td>Mendoza</td>\n      <td>Malbec</td>\n      <td>False</td>\n      <td>Argentina</td>\n      <td>White</td>\n    </tr>\n    <tr>\n      <th>2</th>\n      <td>Alamos</td>\n      <td>2018</td>\n      <td>Malbec Rosé 2018</td>\n      <td>3.9</td>\n      <td>384</td>\n      <td>8.00</td>\n      <td>Valle de Uco</td>\n      <td>Malbec</td>\n      <td>False</td>\n      <td>Argentina</td>\n      <td>Rose</td>\n    </tr>\n    <tr>\n      <th>3</th>\n      <td>Alamos</td>\n      <td>2019</td>\n      <td>Torrontes 2019</td>\n      <td>3.8</td>\n      <td>820</td>\n      <td>8.00</td>\n      <td>Salta</td>\n      <td>Malbec</td>\n      <td>False</td>\n      <td>Argentina</td>\n      <td>White</td>\n    </tr>\n    <tr>\n      <th>4</th>\n      <td>Alamos</td>\n      <td>2020</td>\n      <td>Cabernet Sauvignon 2020</td>\n      <td>3.6</td>\n      <td>489</td>\n      <td>8.00</td>\n      <td>Mendoza</td>\n      <td>Malbec</td>\n      <td>False</td>\n      <td>Argentina</td>\n      <td>Red</td>\n    </tr>\n  </tbody>\n</table>\n</div>"
     },
     "execution_count": 154,
     "metadata": {},
     "output_type": "execute_result"
    }
   ],
   "source": [
    "df.head()"
   ],
   "metadata": {
    "collapsed": false,
    "pycharm": {
     "name": "#%%\n"
    }
   }
  },
  {
   "cell_type": "code",
   "execution_count": 153,
   "outputs": [
    {
     "data": {
      "text/plain": "Winery             0\nYear             907\nWine               0\nRating             0\nReviews            0\nPrice              0\nRegion             0\nPrimary_Grape      0\nNatural            0\nCountry            0\nStyle              0\ndtype: int64"
     },
     "execution_count": 153,
     "metadata": {},
     "output_type": "execute_result"
    }
   ],
   "source": [
    "df.isnull().sum()"
   ],
   "metadata": {
    "collapsed": false,
    "pycharm": {
     "name": "#%%\n"
    }
   }
  },
  {
   "cell_type": "markdown",
   "source": [
    "Data Exploration"
   ],
   "metadata": {
    "collapsed": false
   }
  },
  {
   "cell_type": "code",
   "execution_count": 151,
   "outputs": [
    {
     "name": "stdout",
     "output_type": "stream",
     "text": [
      "Dataset dimension:  (12205, 11)\n",
      "\n",
      "First 5 rows of dataset: \n",
      "         Winery  Year                     Wine  Rating  Reviews  Price  \\\n",
      "0  Baron de Ley  2020   Rosado de Lágrima 2020     4.2       42   7.15   \n",
      "1       New Age   NaN         Sweet White N.V.     3.9     5672   7.43   \n",
      "2        Alamos  2018         Malbec Rosé 2018     3.9      384   8.00   \n",
      "3        Alamos  2019           Torrontes 2019     3.8      820   8.00   \n",
      "4        Alamos  2020  Cabernet Sauvignon 2020     3.6      489   8.00   \n",
      "\n",
      "         Region Primary_Grape  Natural    Country  Style  \n",
      "0      La Rioja        Malbec    False  Argentina   Rose  \n",
      "1       Mendoza        Malbec    False  Argentina  White  \n",
      "2  Valle de Uco        Malbec    False  Argentina   Rose  \n",
      "3         Salta        Malbec    False  Argentina  White  \n",
      "4       Mendoza        Malbec    False  Argentina    Red  \n",
      "\n",
      "Information about the dataset columns: \n",
      "\n",
      "<class 'pandas.core.frame.DataFrame'>\n",
      "RangeIndex: 12205 entries, 0 to 12204\n",
      "Data columns (total 11 columns):\n",
      " #   Column         Non-Null Count  Dtype  \n",
      "---  ------         --------------  -----  \n",
      " 0   Winery         12205 non-null  object \n",
      " 1   Year           11298 non-null  object \n",
      " 2   Wine           12205 non-null  object \n",
      " 3   Rating         12205 non-null  float64\n",
      " 4   Reviews        12205 non-null  int64  \n",
      " 5   Price          12205 non-null  float64\n",
      " 6   Region         12205 non-null  object \n",
      " 7   Primary_Grape  12205 non-null  object \n",
      " 8   Natural        12205 non-null  bool   \n",
      " 9   Country        12205 non-null  object \n",
      " 10  Style          12205 non-null  object \n",
      "dtypes: bool(1), float64(2), int64(1), object(7)\n",
      "memory usage: 965.6+ KB\n",
      "None\n"
     ]
    }
   ],
   "source": [
    "# Let's get some information about the dataset\n",
    "def summarize_dataset(dataset):\n",
    "    print(\"Dataset dimension: \", dataset.shape)\n",
    "    print('\\nFirst 5 rows of dataset: '), print(dataset.head(5))\n",
    "    print('\\nInformation about the dataset columns: \\n'), print(dataset.info())\n",
    "summarize_dataset(df)"
   ],
   "metadata": {
    "collapsed": false,
    "pycharm": {
     "name": "#%%\n"
    }
   }
  },
  {
   "cell_type": "code",
   "execution_count": 152,
   "outputs": [
    {
     "data": {
      "text/plain": "             Rating        Reviews         Price\ncount  12205.000000   12205.000000  12205.000000\nmean       3.919992     498.468005     42.610824\nstd        0.322382    2333.570088    116.172437\nmin        1.900000      25.000000      2.070000\n25%        3.700000      55.000000      8.950000\n50%        3.900000     122.000000     17.900000\n75%        4.100000     330.000000     37.000000\nmax        4.900000  114425.000000   6511.310000",
      "text/html": "<div>\n<style scoped>\n    .dataframe tbody tr th:only-of-type {\n        vertical-align: middle;\n    }\n\n    .dataframe tbody tr th {\n        vertical-align: top;\n    }\n\n    .dataframe thead th {\n        text-align: right;\n    }\n</style>\n<table border=\"1\" class=\"dataframe\">\n  <thead>\n    <tr style=\"text-align: right;\">\n      <th></th>\n      <th>Rating</th>\n      <th>Reviews</th>\n      <th>Price</th>\n    </tr>\n  </thead>\n  <tbody>\n    <tr>\n      <th>count</th>\n      <td>12205.000000</td>\n      <td>12205.000000</td>\n      <td>12205.000000</td>\n    </tr>\n    <tr>\n      <th>mean</th>\n      <td>3.919992</td>\n      <td>498.468005</td>\n      <td>42.610824</td>\n    </tr>\n    <tr>\n      <th>std</th>\n      <td>0.322382</td>\n      <td>2333.570088</td>\n      <td>116.172437</td>\n    </tr>\n    <tr>\n      <th>min</th>\n      <td>1.900000</td>\n      <td>25.000000</td>\n      <td>2.070000</td>\n    </tr>\n    <tr>\n      <th>25%</th>\n      <td>3.700000</td>\n      <td>55.000000</td>\n      <td>8.950000</td>\n    </tr>\n    <tr>\n      <th>50%</th>\n      <td>3.900000</td>\n      <td>122.000000</td>\n      <td>17.900000</td>\n    </tr>\n    <tr>\n      <th>75%</th>\n      <td>4.100000</td>\n      <td>330.000000</td>\n      <td>37.000000</td>\n    </tr>\n    <tr>\n      <th>max</th>\n      <td>4.900000</td>\n      <td>114425.000000</td>\n      <td>6511.310000</td>\n    </tr>\n  </tbody>\n</table>\n</div>"
     },
     "execution_count": 152,
     "metadata": {},
     "output_type": "execute_result"
    }
   ],
   "source": [
    "# Describe dataset\n",
    "df.describe()"
   ],
   "metadata": {
    "collapsed": false,
    "pycharm": {
     "name": "#%%\n"
    }
   }
  },
  {
   "cell_type": "code",
   "execution_count": null,
   "outputs": [],
   "source": [],
   "metadata": {
    "collapsed": false,
    "pycharm": {
     "name": "#%%\n"
    }
   }
  }
 ],
 "metadata": {
  "kernelspec": {
   "display_name": "Python 3",
   "language": "python",
   "name": "python3"
  },
  "language_info": {
   "codemirror_mode": {
    "name": "ipython",
    "version": 2
   },
   "file_extension": ".py",
   "mimetype": "text/x-python",
   "name": "python",
   "nbconvert_exporter": "python",
   "pygments_lexer": "ipython2",
   "version": "2.7.6"
  }
 },
 "nbformat": 4,
 "nbformat_minor": 0
}