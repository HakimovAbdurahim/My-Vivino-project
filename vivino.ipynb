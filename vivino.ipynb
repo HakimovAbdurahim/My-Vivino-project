{
 "cells": [
  {
   "cell_type": "code",
   "execution_count": 28,
   "metadata": {
    "collapsed": true
   },
   "outputs": [],
   "source": [
    "import requests\n",
    "import pandas as pd\n",
    "import numpy as np"
   ]
  },
  {
   "cell_type": "code",
   "execution_count": 29,
   "outputs": [],
   "source": [
    "def collecting_data():\n",
    "    data = pd.read_csv('vivino_top_ten.csv')\n",
    "    return data\n",
    "\n",
    "df = collecting_data()"
   ],
   "metadata": {
    "collapsed": false,
    "pycharm": {
     "name": "#%%\n"
    }
   }
  },
  {
   "cell_type": "code",
   "execution_count": 32,
   "outputs": [
    {
     "data": {
      "text/plain": "         Winery  Year  Wine_ID                     Wine  Rating  Reviews  \\\n0  Baron de Ley  2020  8729994   Rosado de Lágrima 2020     4.2       42   \n1       New Age  N.V.  7704484         Sweet White N.V.     3.9     5672   \n2        Alamos  2018    68764         Malbec Rosé 2018     3.9      384   \n3        Alamos  2019     2166           Torrontes 2019     3.8      820   \n4        Alamos  2020  1387085  Cabernet Sauvignon 2020     3.6      489   \n\n   Price        Region Primary_Grape  Natural    Country  Style Country_Code  \n0   7.15      La Rioja        Malbec    False  Argentina   Rose          ARG  \n1   7.43       Mendoza        Malbec    False  Argentina  White          ARG  \n2   8.00  Valle de Uco        Malbec    False  Argentina   Rose          ARG  \n3   8.00         Salta        Malbec    False  Argentina  White          ARG  \n4   8.00       Mendoza        Malbec    False  Argentina    Red          ARG  ",
      "text/html": "<div>\n<style scoped>\n    .dataframe tbody tr th:only-of-type {\n        vertical-align: middle;\n    }\n\n    .dataframe tbody tr th {\n        vertical-align: top;\n    }\n\n    .dataframe thead th {\n        text-align: right;\n    }\n</style>\n<table border=\"1\" class=\"dataframe\">\n  <thead>\n    <tr style=\"text-align: right;\">\n      <th></th>\n      <th>Winery</th>\n      <th>Year</th>\n      <th>Wine_ID</th>\n      <th>Wine</th>\n      <th>Rating</th>\n      <th>Reviews</th>\n      <th>Price</th>\n      <th>Region</th>\n      <th>Primary_Grape</th>\n      <th>Natural</th>\n      <th>Country</th>\n      <th>Style</th>\n      <th>Country_Code</th>\n    </tr>\n  </thead>\n  <tbody>\n    <tr>\n      <th>0</th>\n      <td>Baron de Ley</td>\n      <td>2020</td>\n      <td>8729994</td>\n      <td>Rosado de Lágrima 2020</td>\n      <td>4.2</td>\n      <td>42</td>\n      <td>7.15</td>\n      <td>La Rioja</td>\n      <td>Malbec</td>\n      <td>False</td>\n      <td>Argentina</td>\n      <td>Rose</td>\n      <td>ARG</td>\n    </tr>\n    <tr>\n      <th>1</th>\n      <td>New Age</td>\n      <td>N.V.</td>\n      <td>7704484</td>\n      <td>Sweet White N.V.</td>\n      <td>3.9</td>\n      <td>5672</td>\n      <td>7.43</td>\n      <td>Mendoza</td>\n      <td>Malbec</td>\n      <td>False</td>\n      <td>Argentina</td>\n      <td>White</td>\n      <td>ARG</td>\n    </tr>\n    <tr>\n      <th>2</th>\n      <td>Alamos</td>\n      <td>2018</td>\n      <td>68764</td>\n      <td>Malbec Rosé 2018</td>\n      <td>3.9</td>\n      <td>384</td>\n      <td>8.00</td>\n      <td>Valle de Uco</td>\n      <td>Malbec</td>\n      <td>False</td>\n      <td>Argentina</td>\n      <td>Rose</td>\n      <td>ARG</td>\n    </tr>\n    <tr>\n      <th>3</th>\n      <td>Alamos</td>\n      <td>2019</td>\n      <td>2166</td>\n      <td>Torrontes 2019</td>\n      <td>3.8</td>\n      <td>820</td>\n      <td>8.00</td>\n      <td>Salta</td>\n      <td>Malbec</td>\n      <td>False</td>\n      <td>Argentina</td>\n      <td>White</td>\n      <td>ARG</td>\n    </tr>\n    <tr>\n      <th>4</th>\n      <td>Alamos</td>\n      <td>2020</td>\n      <td>1387085</td>\n      <td>Cabernet Sauvignon 2020</td>\n      <td>3.6</td>\n      <td>489</td>\n      <td>8.00</td>\n      <td>Mendoza</td>\n      <td>Malbec</td>\n      <td>False</td>\n      <td>Argentina</td>\n      <td>Red</td>\n      <td>ARG</td>\n    </tr>\n  </tbody>\n</table>\n</div>"
     },
     "execution_count": 32,
     "metadata": {},
     "output_type": "execute_result"
    }
   ],
   "source": [
    "def cleaning_data(dataset):\n"
   ],
   "metadata": {
    "collapsed": false,
    "pycharm": {
     "name": "#%%\n"
    }
   }
  },
  {
   "cell_type": "code",
   "execution_count": 35,
   "outputs": [
    {
     "data": {
      "text/plain": "2018    2184\n2019    2046\n2017    1601\n2020    1534\n2016    1142\nN.V.     892\n2015     803\n2014     470\n2013     360\n2012     254\n2011     165\n2010      95\n2009      94\n2021      82\n2008      67\n2007      60\n2006      44\n2004      37\n2005      32\n2003      30\n2000      24\n2001      20\n1999      17\n1998      16\n1995      14\n2002      13\n1997      12\n1985       8\n1994       6\n1996       6\n1970       4\n1990       4\n1980       4\n1993       4\n1976       3\n1992       3\n1983       3\n1982       3\n1977       3\n1975       3\n1974       2\n1967       2\n1966       2\n1987       2\n1981       2\n1989       2\n1988       2\n1957       2\n1978       2\n1968       1\n1900       1\n1929       1\n1964       1\n1911       1\n1979       1\n1991       1\n1961       1\n1965       1\n1960       1\nName: Year, dtype: int64"
     },
     "execution_count": 35,
     "metadata": {},
     "output_type": "execute_result"
    }
   ],
   "source": [
    "df.Year.value_counts()"
   ],
   "metadata": {
    "collapsed": false,
    "pycharm": {
     "name": "#%%\n"
    }
   }
  },
  {
   "cell_type": "code",
   "execution_count": null,
   "outputs": [],
   "source": [],
   "metadata": {
    "collapsed": false,
    "pycharm": {
     "name": "#%%\n"
    }
   }
  }
 ],
 "metadata": {
  "kernelspec": {
   "display_name": "Python 3",
   "language": "python",
   "name": "python3"
  },
  "language_info": {
   "codemirror_mode": {
    "name": "ipython",
    "version": 2
   },
   "file_extension": ".py",
   "mimetype": "text/x-python",
   "name": "python",
   "nbconvert_exporter": "python",
   "pygments_lexer": "ipython2",
   "version": "2.7.6"
  }
 },
 "nbformat": 4,
 "nbformat_minor": 0
}